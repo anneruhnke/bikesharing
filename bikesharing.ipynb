{
 "cells": [
  {
   "cell_type": "markdown",
   "id": "usual-experiment",
   "metadata": {},
   "source": [
    "# Bike sharing"
   ]
  },
  {
   "cell_type": "code",
   "execution_count": 1,
   "id": "enhanced-sector",
   "metadata": {},
   "outputs": [],
   "source": [
    "# Import libaries\n",
    "import pandas as pd\n",
    "import numpy as np\n",
    "import plotly.express as px"
   ]
  },
  {
   "cell_type": "markdown",
   "id": "celtic-pennsylvania",
   "metadata": {},
   "source": [
    "## Gather data"
   ]
  },
  {
   "cell_type": "code",
   "execution_count": 2,
   "id": "natural-outline",
   "metadata": {},
   "outputs": [
    {
     "name": "stderr",
     "output_type": "stream",
     "text": [
      "/Users/anneruhnke/opt/anaconda3/lib/python3.8/site-packages/IPython/core/interactiveshell.py:3165: DtypeWarning: Columns (7) have mixed types.Specify dtype option on import or set low_memory=False.\n",
      "  has_raised = await self.run_ast_nodes(code_ast.body, cell_name,\n"
     ]
    }
   ],
   "source": [
    "data = pd.read_csv('202108-citibike-tripdata.csv')"
   ]
  },
  {
   "cell_type": "markdown",
   "id": "extraordinary-constraint",
   "metadata": {},
   "source": [
    "## Assess data"
   ]
  },
  {
   "cell_type": "code",
   "execution_count": 3,
   "id": "embedded-academy",
   "metadata": {},
   "outputs": [
    {
     "data": {
      "text/html": [
       "<div>\n",
       "<style scoped>\n",
       "    .dataframe tbody tr th:only-of-type {\n",
       "        vertical-align: middle;\n",
       "    }\n",
       "\n",
       "    .dataframe tbody tr th {\n",
       "        vertical-align: top;\n",
       "    }\n",
       "\n",
       "    .dataframe thead th {\n",
       "        text-align: right;\n",
       "    }\n",
       "</style>\n",
       "<table border=\"1\" class=\"dataframe\">\n",
       "  <thead>\n",
       "    <tr style=\"text-align: right;\">\n",
       "      <th></th>\n",
       "      <th>ride_id</th>\n",
       "      <th>rideable_type</th>\n",
       "      <th>started_at</th>\n",
       "      <th>ended_at</th>\n",
       "      <th>start_station_name</th>\n",
       "      <th>start_station_id</th>\n",
       "      <th>end_station_name</th>\n",
       "      <th>end_station_id</th>\n",
       "      <th>start_lat</th>\n",
       "      <th>start_lng</th>\n",
       "      <th>end_lat</th>\n",
       "      <th>end_lng</th>\n",
       "      <th>member_casual</th>\n",
       "    </tr>\n",
       "  </thead>\n",
       "  <tbody>\n",
       "    <tr>\n",
       "      <th>0</th>\n",
       "      <td>FB6B89D05B67EBED</td>\n",
       "      <td>classic_bike</td>\n",
       "      <td>2021-08-24 15:59:57</td>\n",
       "      <td>2021-08-24 16:42:07</td>\n",
       "      <td>Broadway &amp; E 21 St</td>\n",
       "      <td>6098.10</td>\n",
       "      <td>Central Park North &amp; Adam Clayton Powell Blvd</td>\n",
       "      <td>7617.07</td>\n",
       "      <td>40.739888</td>\n",
       "      <td>-73.989586</td>\n",
       "      <td>40.799484</td>\n",
       "      <td>-73.955613</td>\n",
       "      <td>member</td>\n",
       "    </tr>\n",
       "    <tr>\n",
       "      <th>1</th>\n",
       "      <td>E13DA3E30CEF8DFC</td>\n",
       "      <td>classic_bike</td>\n",
       "      <td>2021-08-18 13:12:01</td>\n",
       "      <td>2021-08-18 13:21:26</td>\n",
       "      <td>E 13 St &amp; 2 Ave</td>\n",
       "      <td>5820.08</td>\n",
       "      <td>Henry St &amp; Grand St</td>\n",
       "      <td>5294.04</td>\n",
       "      <td>40.731539</td>\n",
       "      <td>-73.985302</td>\n",
       "      <td>40.714211</td>\n",
       "      <td>-73.981095</td>\n",
       "      <td>member</td>\n",
       "    </tr>\n",
       "    <tr>\n",
       "      <th>2</th>\n",
       "      <td>56617490AB8AE69C</td>\n",
       "      <td>classic_bike</td>\n",
       "      <td>2021-08-17 14:31:23</td>\n",
       "      <td>2021-08-17 14:35:34</td>\n",
       "      <td>E 95 St &amp; 3 Ave</td>\n",
       "      <td>7365.13</td>\n",
       "      <td>E 84 St &amp; Park Ave</td>\n",
       "      <td>7243.04</td>\n",
       "      <td>40.784903</td>\n",
       "      <td>-73.950503</td>\n",
       "      <td>40.778627</td>\n",
       "      <td>-73.957721</td>\n",
       "      <td>member</td>\n",
       "    </tr>\n",
       "    <tr>\n",
       "      <th>3</th>\n",
       "      <td>CA908B271C7D6663</td>\n",
       "      <td>classic_bike</td>\n",
       "      <td>2021-08-11 10:00:12</td>\n",
       "      <td>2021-08-11 10:31:01</td>\n",
       "      <td>Madison Ave &amp; E 82 St</td>\n",
       "      <td>7188.13</td>\n",
       "      <td>E 84 St &amp; Park Ave</td>\n",
       "      <td>7243.04</td>\n",
       "      <td>40.778131</td>\n",
       "      <td>-73.960694</td>\n",
       "      <td>40.778627</td>\n",
       "      <td>-73.957721</td>\n",
       "      <td>casual</td>\n",
       "    </tr>\n",
       "    <tr>\n",
       "      <th>4</th>\n",
       "      <td>3E170CE1F4FE179D</td>\n",
       "      <td>classic_bike</td>\n",
       "      <td>2021-08-12 19:28:38</td>\n",
       "      <td>2021-08-12 19:48:50</td>\n",
       "      <td>E 74 St &amp; 1 Ave</td>\n",
       "      <td>6953.08</td>\n",
       "      <td>E 84 St &amp; Park Ave</td>\n",
       "      <td>7243.04</td>\n",
       "      <td>40.768974</td>\n",
       "      <td>-73.954823</td>\n",
       "      <td>40.778627</td>\n",
       "      <td>-73.957721</td>\n",
       "      <td>casual</td>\n",
       "    </tr>\n",
       "  </tbody>\n",
       "</table>\n",
       "</div>"
      ],
      "text/plain": [
       "            ride_id rideable_type           started_at             ended_at  \\\n",
       "0  FB6B89D05B67EBED  classic_bike  2021-08-24 15:59:57  2021-08-24 16:42:07   \n",
       "1  E13DA3E30CEF8DFC  classic_bike  2021-08-18 13:12:01  2021-08-18 13:21:26   \n",
       "2  56617490AB8AE69C  classic_bike  2021-08-17 14:31:23  2021-08-17 14:35:34   \n",
       "3  CA908B271C7D6663  classic_bike  2021-08-11 10:00:12  2021-08-11 10:31:01   \n",
       "4  3E170CE1F4FE179D  classic_bike  2021-08-12 19:28:38  2021-08-12 19:48:50   \n",
       "\n",
       "      start_station_name  start_station_id  \\\n",
       "0     Broadway & E 21 St           6098.10   \n",
       "1        E 13 St & 2 Ave           5820.08   \n",
       "2        E 95 St & 3 Ave           7365.13   \n",
       "3  Madison Ave & E 82 St           7188.13   \n",
       "4        E 74 St & 1 Ave           6953.08   \n",
       "\n",
       "                                end_station_name end_station_id  start_lat  \\\n",
       "0  Central Park North & Adam Clayton Powell Blvd        7617.07  40.739888   \n",
       "1                            Henry St & Grand St        5294.04  40.731539   \n",
       "2                             E 84 St & Park Ave        7243.04  40.784903   \n",
       "3                             E 84 St & Park Ave        7243.04  40.778131   \n",
       "4                             E 84 St & Park Ave        7243.04  40.768974   \n",
       "\n",
       "   start_lng    end_lat    end_lng member_casual  \n",
       "0 -73.989586  40.799484 -73.955613        member  \n",
       "1 -73.985302  40.714211 -73.981095        member  \n",
       "2 -73.950503  40.778627 -73.957721        member  \n",
       "3 -73.960694  40.778627 -73.957721        casual  \n",
       "4 -73.954823  40.778627 -73.957721        casual  "
      ]
     },
     "execution_count": 3,
     "metadata": {},
     "output_type": "execute_result"
    }
   ],
   "source": [
    "data.head()"
   ]
  },
  {
   "cell_type": "code",
   "execution_count": 4,
   "id": "unexpected-robinson",
   "metadata": {},
   "outputs": [
    {
     "name": "stdout",
     "output_type": "stream",
     "text": [
      "<class 'pandas.core.frame.DataFrame'>\n",
      "RangeIndex: 3072478 entries, 0 to 3072477\n",
      "Data columns (total 13 columns):\n",
      " #   Column              Dtype  \n",
      "---  ------              -----  \n",
      " 0   ride_id             object \n",
      " 1   rideable_type       object \n",
      " 2   started_at          object \n",
      " 3   ended_at            object \n",
      " 4   start_station_name  object \n",
      " 5   start_station_id    float64\n",
      " 6   end_station_name    object \n",
      " 7   end_station_id      object \n",
      " 8   start_lat           float64\n",
      " 9   start_lng           float64\n",
      " 10  end_lat             float64\n",
      " 11  end_lng             float64\n",
      " 12  member_casual       object \n",
      "dtypes: float64(5), object(8)\n",
      "memory usage: 304.7+ MB\n"
     ]
    }
   ],
   "source": [
    "data.info()"
   ]
  },
  {
   "cell_type": "code",
   "execution_count": 5,
   "id": "christian-cable",
   "metadata": {},
   "outputs": [
    {
     "data": {
      "text/html": [
       "<div>\n",
       "<style scoped>\n",
       "    .dataframe tbody tr th:only-of-type {\n",
       "        vertical-align: middle;\n",
       "    }\n",
       "\n",
       "    .dataframe tbody tr th {\n",
       "        vertical-align: top;\n",
       "    }\n",
       "\n",
       "    .dataframe thead th {\n",
       "        text-align: right;\n",
       "    }\n",
       "</style>\n",
       "<table border=\"1\" class=\"dataframe\">\n",
       "  <thead>\n",
       "    <tr style=\"text-align: right;\">\n",
       "      <th></th>\n",
       "      <th>start_station_id</th>\n",
       "      <th>start_lat</th>\n",
       "      <th>start_lng</th>\n",
       "      <th>end_lat</th>\n",
       "      <th>end_lng</th>\n",
       "    </tr>\n",
       "  </thead>\n",
       "  <tbody>\n",
       "    <tr>\n",
       "      <th>count</th>\n",
       "      <td>3.072438e+06</td>\n",
       "      <td>3.072478e+06</td>\n",
       "      <td>3.072478e+06</td>\n",
       "      <td>3.065275e+06</td>\n",
       "      <td>3.065275e+06</td>\n",
       "    </tr>\n",
       "    <tr>\n",
       "      <th>mean</th>\n",
       "      <td>6.013897e+03</td>\n",
       "      <td>4.074000e+01</td>\n",
       "      <td>-7.397585e+01</td>\n",
       "      <td>4.073975e+01</td>\n",
       "      <td>-7.397591e+01</td>\n",
       "    </tr>\n",
       "    <tr>\n",
       "      <th>std</th>\n",
       "      <td>1.073682e+03</td>\n",
       "      <td>3.849345e-02</td>\n",
       "      <td>2.554804e-02</td>\n",
       "      <td>3.847201e-02</td>\n",
       "      <td>2.560477e-02</td>\n",
       "    </tr>\n",
       "    <tr>\n",
       "      <th>min</th>\n",
       "      <td>2.733030e+03</td>\n",
       "      <td>4.063338e+01</td>\n",
       "      <td>-7.402747e+01</td>\n",
       "      <td>4.063338e+01</td>\n",
       "      <td>-7.407146e+01</td>\n",
       "    </tr>\n",
       "    <tr>\n",
       "      <th>25%</th>\n",
       "      <td>5.303080e+03</td>\n",
       "      <td>4.071535e+01</td>\n",
       "      <td>-7.399405e+01</td>\n",
       "      <td>4.071535e+01</td>\n",
       "      <td>-7.399416e+01</td>\n",
       "    </tr>\n",
       "    <tr>\n",
       "      <th>50%</th>\n",
       "      <td>6.004070e+03</td>\n",
       "      <td>4.073805e+01</td>\n",
       "      <td>-7.398169e+01</td>\n",
       "      <td>4.073726e+01</td>\n",
       "      <td>-7.398185e+01</td>\n",
       "    </tr>\n",
       "    <tr>\n",
       "      <th>75%</th>\n",
       "      <td>6.779040e+03</td>\n",
       "      <td>4.076229e+01</td>\n",
       "      <td>-7.395943e+01</td>\n",
       "      <td>4.076227e+01</td>\n",
       "      <td>-7.395922e+01</td>\n",
       "    </tr>\n",
       "    <tr>\n",
       "      <th>max</th>\n",
       "      <td>8.841030e+03</td>\n",
       "      <td>4.088226e+01</td>\n",
       "      <td>-7.388145e+01</td>\n",
       "      <td>4.088226e+01</td>\n",
       "      <td>-7.388000e+01</td>\n",
       "    </tr>\n",
       "  </tbody>\n",
       "</table>\n",
       "</div>"
      ],
      "text/plain": [
       "       start_station_id     start_lat     start_lng       end_lat  \\\n",
       "count      3.072438e+06  3.072478e+06  3.072478e+06  3.065275e+06   \n",
       "mean       6.013897e+03  4.074000e+01 -7.397585e+01  4.073975e+01   \n",
       "std        1.073682e+03  3.849345e-02  2.554804e-02  3.847201e-02   \n",
       "min        2.733030e+03  4.063338e+01 -7.402747e+01  4.063338e+01   \n",
       "25%        5.303080e+03  4.071535e+01 -7.399405e+01  4.071535e+01   \n",
       "50%        6.004070e+03  4.073805e+01 -7.398169e+01  4.073726e+01   \n",
       "75%        6.779040e+03  4.076229e+01 -7.395943e+01  4.076227e+01   \n",
       "max        8.841030e+03  4.088226e+01 -7.388145e+01  4.088226e+01   \n",
       "\n",
       "            end_lng  \n",
       "count  3.065275e+06  \n",
       "mean  -7.397591e+01  \n",
       "std    2.560477e-02  \n",
       "min   -7.407146e+01  \n",
       "25%   -7.399416e+01  \n",
       "50%   -7.398185e+01  \n",
       "75%   -7.395922e+01  \n",
       "max   -7.388000e+01  "
      ]
     },
     "execution_count": 5,
     "metadata": {},
     "output_type": "execute_result"
    }
   ],
   "source": [
    "data.describe()"
   ]
  },
  {
   "cell_type": "code",
   "execution_count": 6,
   "id": "mediterranean-heading",
   "metadata": {},
   "outputs": [
    {
     "data": {
      "text/plain": [
       "ride_id                   0\n",
       "rideable_type             0\n",
       "started_at                0\n",
       "ended_at                  0\n",
       "start_station_name       40\n",
       "start_station_id         40\n",
       "end_station_name      13628\n",
       "end_station_id        13628\n",
       "start_lat                 0\n",
       "start_lng                 0\n",
       "end_lat                7203\n",
       "end_lng                7203\n",
       "member_casual             0\n",
       "dtype: int64"
      ]
     },
     "execution_count": 6,
     "metadata": {},
     "output_type": "execute_result"
    }
   ],
   "source": [
    "data.isnull().sum()"
   ]
  },
  {
   "cell_type": "code",
   "execution_count": 7,
   "id": "antique-investor",
   "metadata": {},
   "outputs": [
    {
     "data": {
      "text/plain": [
       "0"
      ]
     },
     "execution_count": 7,
     "metadata": {},
     "output_type": "execute_result"
    }
   ],
   "source": [
    "data.ride_id.duplicated().sum()"
   ]
  },
  {
   "cell_type": "code",
   "execution_count": 8,
   "id": "under-shame",
   "metadata": {},
   "outputs": [
    {
     "data": {
      "text/plain": [
       "Index(['ride_id', 'rideable_type', 'started_at', 'ended_at',\n",
       "       'start_station_name', 'start_station_id', 'end_station_name',\n",
       "       'end_station_id', 'start_lat', 'start_lng', 'end_lat', 'end_lng',\n",
       "       'member_casual'],\n",
       "      dtype='object')"
      ]
     },
     "execution_count": 8,
     "metadata": {},
     "output_type": "execute_result"
    }
   ],
   "source": [
    "columns = data.columns\n",
    "columns"
   ]
  },
  {
   "cell_type": "code",
   "execution_count": 9,
   "id": "early-looking",
   "metadata": {},
   "outputs": [
    {
     "data": {
      "text/html": [
       "<div>\n",
       "<style scoped>\n",
       "    .dataframe tbody tr th:only-of-type {\n",
       "        vertical-align: middle;\n",
       "    }\n",
       "\n",
       "    .dataframe tbody tr th {\n",
       "        vertical-align: top;\n",
       "    }\n",
       "\n",
       "    .dataframe thead th {\n",
       "        text-align: right;\n",
       "    }\n",
       "</style>\n",
       "<table border=\"1\" class=\"dataframe\">\n",
       "  <thead>\n",
       "    <tr style=\"text-align: right;\">\n",
       "      <th></th>\n",
       "      <th>rideable_type</th>\n",
       "    </tr>\n",
       "  </thead>\n",
       "  <tbody>\n",
       "    <tr>\n",
       "      <th>classic_bike</th>\n",
       "      <td>3039351</td>\n",
       "    </tr>\n",
       "    <tr>\n",
       "      <th>docked_bike</th>\n",
       "      <td>33087</td>\n",
       "    </tr>\n",
       "    <tr>\n",
       "      <th>electric_bike</th>\n",
       "      <td>40</td>\n",
       "    </tr>\n",
       "  </tbody>\n",
       "</table>\n",
       "</div>"
      ],
      "text/plain": [
       "               rideable_type\n",
       "classic_bike         3039351\n",
       "docked_bike            33087\n",
       "electric_bike             40"
      ]
     },
     "execution_count": 9,
     "metadata": {},
     "output_type": "execute_result"
    }
   ],
   "source": [
    "x = data['rideable_type'].value_counts()\n",
    "x = pd.DataFrame(x)\n",
    "x"
   ]
  },
  {
   "cell_type": "code",
   "execution_count": 10,
   "id": "charming-bread",
   "metadata": {},
   "outputs": [
    {
     "data": {
      "text/html": [
       "<div>\n",
       "<style scoped>\n",
       "    .dataframe tbody tr th:only-of-type {\n",
       "        vertical-align: middle;\n",
       "    }\n",
       "\n",
       "    .dataframe tbody tr th {\n",
       "        vertical-align: top;\n",
       "    }\n",
       "\n",
       "    .dataframe thead th {\n",
       "        text-align: right;\n",
       "    }\n",
       "</style>\n",
       "<table border=\"1\" class=\"dataframe\">\n",
       "  <thead>\n",
       "    <tr style=\"text-align: right;\">\n",
       "      <th></th>\n",
       "      <th>start_station_name</th>\n",
       "    </tr>\n",
       "  </thead>\n",
       "  <tbody>\n",
       "    <tr>\n",
       "      <th>E 17 St &amp; Broadway</th>\n",
       "      <td>13629</td>\n",
       "    </tr>\n",
       "    <tr>\n",
       "      <th>West St &amp; Chambers St</th>\n",
       "      <td>13505</td>\n",
       "    </tr>\n",
       "    <tr>\n",
       "      <th>W 21 St &amp; 6 Ave</th>\n",
       "      <td>13320</td>\n",
       "    </tr>\n",
       "    <tr>\n",
       "      <th>Cleveland Pl &amp; Spring St</th>\n",
       "      <td>11764</td>\n",
       "    </tr>\n",
       "    <tr>\n",
       "      <th>West St &amp; Liberty St</th>\n",
       "      <td>11518</td>\n",
       "    </tr>\n",
       "    <tr>\n",
       "      <th>...</th>\n",
       "      <td>...</td>\n",
       "    </tr>\n",
       "    <tr>\n",
       "      <th>Sedgwick Ave &amp; Hall of Fame Tce</th>\n",
       "      <td>27</td>\n",
       "    </tr>\n",
       "    <tr>\n",
       "      <th>Boerum Pl\\t&amp; Pacific St</th>\n",
       "      <td>17</td>\n",
       "    </tr>\n",
       "    <tr>\n",
       "      <th>49 St &amp; 25 Ave</th>\n",
       "      <td>9</td>\n",
       "    </tr>\n",
       "    <tr>\n",
       "      <th>49 St &amp; 31 Ave</th>\n",
       "      <td>6</td>\n",
       "    </tr>\n",
       "    <tr>\n",
       "      <th>Nassau St\\t&amp; Duffield St</th>\n",
       "      <td>2</td>\n",
       "    </tr>\n",
       "  </tbody>\n",
       "</table>\n",
       "<p>1493 rows × 1 columns</p>\n",
       "</div>"
      ],
      "text/plain": [
       "                                 start_station_name\n",
       "E 17 St & Broadway                            13629\n",
       "West St & Chambers St                         13505\n",
       "W 21 St & 6 Ave                               13320\n",
       "Cleveland Pl & Spring St                      11764\n",
       "West St & Liberty St                          11518\n",
       "...                                             ...\n",
       "Sedgwick Ave & Hall of Fame Tce                  27\n",
       "Boerum Pl\\t& Pacific St                          17\n",
       "49 St & 25 Ave                                    9\n",
       "49 St & 31 Ave                                    6\n",
       "Nassau St\\t& Duffield St                          2\n",
       "\n",
       "[1493 rows x 1 columns]"
      ]
     },
     "execution_count": 10,
     "metadata": {},
     "output_type": "execute_result"
    }
   ],
   "source": [
    "x = data['start_station_name'].value_counts()\n",
    "x = pd.DataFrame(x)\n",
    "x"
   ]
  },
  {
   "cell_type": "code",
   "execution_count": 11,
   "id": "informative-provider",
   "metadata": {},
   "outputs": [
    {
     "data": {
      "text/html": [
       "<div>\n",
       "<style scoped>\n",
       "    .dataframe tbody tr th:only-of-type {\n",
       "        vertical-align: middle;\n",
       "    }\n",
       "\n",
       "    .dataframe tbody tr th {\n",
       "        vertical-align: top;\n",
       "    }\n",
       "\n",
       "    .dataframe thead th {\n",
       "        text-align: right;\n",
       "    }\n",
       "</style>\n",
       "<table border=\"1\" class=\"dataframe\">\n",
       "  <thead>\n",
       "    <tr style=\"text-align: right;\">\n",
       "      <th></th>\n",
       "      <th>end_station_name</th>\n",
       "    </tr>\n",
       "  </thead>\n",
       "  <tbody>\n",
       "    <tr>\n",
       "      <th>E 17 St &amp; Broadway</th>\n",
       "      <td>13746</td>\n",
       "    </tr>\n",
       "    <tr>\n",
       "      <th>West St &amp; Chambers St</th>\n",
       "      <td>13585</td>\n",
       "    </tr>\n",
       "    <tr>\n",
       "      <th>W 21 St &amp; 6 Ave</th>\n",
       "      <td>13334</td>\n",
       "    </tr>\n",
       "    <tr>\n",
       "      <th>Cleveland Pl &amp; Spring St</th>\n",
       "      <td>11775</td>\n",
       "    </tr>\n",
       "    <tr>\n",
       "      <th>West St &amp; Liberty St</th>\n",
       "      <td>11569</td>\n",
       "    </tr>\n",
       "    <tr>\n",
       "      <th>...</th>\n",
       "      <td>...</td>\n",
       "    </tr>\n",
       "    <tr>\n",
       "      <th>Brunswick St</th>\n",
       "      <td>1</td>\n",
       "    </tr>\n",
       "    <tr>\n",
       "      <th>Marin Light Rail</th>\n",
       "      <td>1</td>\n",
       "    </tr>\n",
       "    <tr>\n",
       "      <th>Bergen Ave</th>\n",
       "      <td>1</td>\n",
       "    </tr>\n",
       "    <tr>\n",
       "      <th>Warren St</th>\n",
       "      <td>1</td>\n",
       "    </tr>\n",
       "    <tr>\n",
       "      <th>Grove St PATH</th>\n",
       "      <td>1</td>\n",
       "    </tr>\n",
       "  </tbody>\n",
       "</table>\n",
       "<p>1522 rows × 1 columns</p>\n",
       "</div>"
      ],
      "text/plain": [
       "                          end_station_name\n",
       "E 17 St & Broadway                   13746\n",
       "West St & Chambers St                13585\n",
       "W 21 St & 6 Ave                      13334\n",
       "Cleveland Pl & Spring St             11775\n",
       "West St & Liberty St                 11569\n",
       "...                                    ...\n",
       "Brunswick St                             1\n",
       "Marin Light Rail                         1\n",
       "Bergen Ave                               1\n",
       "Warren St                                1\n",
       "Grove St PATH                            1\n",
       "\n",
       "[1522 rows x 1 columns]"
      ]
     },
     "execution_count": 11,
     "metadata": {},
     "output_type": "execute_result"
    }
   ],
   "source": [
    "x = data['end_station_name'].value_counts()\n",
    "x = pd.DataFrame(x)\n",
    "x"
   ]
  },
  {
   "cell_type": "code",
   "execution_count": 12,
   "id": "democratic-artwork",
   "metadata": {},
   "outputs": [
    {
     "data": {
      "text/html": [
       "<div>\n",
       "<style scoped>\n",
       "    .dataframe tbody tr th:only-of-type {\n",
       "        vertical-align: middle;\n",
       "    }\n",
       "\n",
       "    .dataframe tbody tr th {\n",
       "        vertical-align: top;\n",
       "    }\n",
       "\n",
       "    .dataframe thead th {\n",
       "        text-align: right;\n",
       "    }\n",
       "</style>\n",
       "<table border=\"1\" class=\"dataframe\">\n",
       "  <thead>\n",
       "    <tr style=\"text-align: right;\">\n",
       "      <th></th>\n",
       "      <th>member_casual</th>\n",
       "    </tr>\n",
       "  </thead>\n",
       "  <tbody>\n",
       "    <tr>\n",
       "      <th>member</th>\n",
       "      <td>1864076</td>\n",
       "    </tr>\n",
       "    <tr>\n",
       "      <th>casual</th>\n",
       "      <td>1208402</td>\n",
       "    </tr>\n",
       "  </tbody>\n",
       "</table>\n",
       "</div>"
      ],
      "text/plain": [
       "        member_casual\n",
       "member        1864076\n",
       "casual        1208402"
      ]
     },
     "execution_count": 12,
     "metadata": {},
     "output_type": "execute_result"
    }
   ],
   "source": [
    "x = data['member_casual'].value_counts()\n",
    "x = pd.DataFrame(x)\n",
    "x"
   ]
  },
  {
   "cell_type": "code",
   "execution_count": 13,
   "id": "silver-growth",
   "metadata": {},
   "outputs": [
    {
     "data": {
      "text/html": [
       "<div>\n",
       "<style scoped>\n",
       "    .dataframe tbody tr th:only-of-type {\n",
       "        vertical-align: middle;\n",
       "    }\n",
       "\n",
       "    .dataframe tbody tr th {\n",
       "        vertical-align: top;\n",
       "    }\n",
       "\n",
       "    .dataframe thead th {\n",
       "        text-align: right;\n",
       "    }\n",
       "</style>\n",
       "<table border=\"1\" class=\"dataframe\">\n",
       "  <thead>\n",
       "    <tr style=\"text-align: right;\">\n",
       "      <th></th>\n",
       "      <th>start_station_id</th>\n",
       "      <th>start_lat</th>\n",
       "      <th>start_lng</th>\n",
       "      <th>end_lat</th>\n",
       "      <th>end_lng</th>\n",
       "    </tr>\n",
       "  </thead>\n",
       "  <tbody>\n",
       "    <tr>\n",
       "      <th>start_station_id</th>\n",
       "      <td>1.000000</td>\n",
       "      <td>0.989959</td>\n",
       "      <td>0.323812</td>\n",
       "      <td>0.869186</td>\n",
       "      <td>0.274138</td>\n",
       "    </tr>\n",
       "    <tr>\n",
       "      <th>start_lat</th>\n",
       "      <td>0.989959</td>\n",
       "      <td>1.000000</td>\n",
       "      <td>0.372379</td>\n",
       "      <td>0.881327</td>\n",
       "      <td>0.319014</td>\n",
       "    </tr>\n",
       "    <tr>\n",
       "      <th>start_lng</th>\n",
       "      <td>0.323812</td>\n",
       "      <td>0.372379</td>\n",
       "      <td>1.000000</td>\n",
       "      <td>0.322717</td>\n",
       "      <td>0.793248</td>\n",
       "    </tr>\n",
       "    <tr>\n",
       "      <th>end_lat</th>\n",
       "      <td>0.869186</td>\n",
       "      <td>0.881327</td>\n",
       "      <td>0.322717</td>\n",
       "      <td>1.000000</td>\n",
       "      <td>0.374903</td>\n",
       "    </tr>\n",
       "    <tr>\n",
       "      <th>end_lng</th>\n",
       "      <td>0.274138</td>\n",
       "      <td>0.319014</td>\n",
       "      <td>0.793248</td>\n",
       "      <td>0.374903</td>\n",
       "      <td>1.000000</td>\n",
       "    </tr>\n",
       "  </tbody>\n",
       "</table>\n",
       "</div>"
      ],
      "text/plain": [
       "                  start_station_id  start_lat  start_lng   end_lat   end_lng\n",
       "start_station_id          1.000000   0.989959   0.323812  0.869186  0.274138\n",
       "start_lat                 0.989959   1.000000   0.372379  0.881327  0.319014\n",
       "start_lng                 0.323812   0.372379   1.000000  0.322717  0.793248\n",
       "end_lat                   0.869186   0.881327   0.322717  1.000000  0.374903\n",
       "end_lng                   0.274138   0.319014   0.793248  0.374903  1.000000"
      ]
     },
     "execution_count": 13,
     "metadata": {},
     "output_type": "execute_result"
    }
   ],
   "source": [
    "data.corr()"
   ]
  },
  {
   "cell_type": "markdown",
   "id": "dominant-example",
   "metadata": {},
   "source": [
    "#### Summarize issues\n",
    "- started_at wrong data type\n",
    "- ended_at wrong data type\n",
    "- start_station_id wrong data type\n",
    "- start station name and start station id, start_lat, start_lng in separate table\n",
    "- end station name and end station id, end_lat, end_lng in separate table\n",
    "- wrong column name member_casual\n",
    "\n",
    "- investigate na values\n",
    "- check similar writing for start and end station\n"
   ]
  },
  {
   "cell_type": "markdown",
   "id": "fitting-gallery",
   "metadata": {},
   "source": [
    "## Clean data"
   ]
  },
  {
   "cell_type": "code",
   "execution_count": 49,
   "id": "cooperative-height",
   "metadata": {},
   "outputs": [],
   "source": [
    "data_clean = data.copy()"
   ]
  },
  {
   "cell_type": "markdown",
   "id": "discrete-buffalo",
   "metadata": {},
   "source": [
    "#### Summarize to dos\n",
    "\n",
    "- change data type started_at \n",
    "- change data type ended_at\n",
    "- change data type start_station_id \n",
    "- rename member_casual column\n",
    "- create tables for start station name and start station id, start_lat, start_lng\n",
    "- create tables for end station name and end station id, end_lat, end_lng\n",
    "\n",
    "- investigate na values\n",
    "- check similar writing for start and end station"
   ]
  },
  {
   "cell_type": "markdown",
   "id": "municipal-galaxy",
   "metadata": {},
   "source": [
    "### Define"
   ]
  },
  {
   "cell_type": "code",
   "execution_count": 50,
   "id": "signal-instrument",
   "metadata": {},
   "outputs": [
    {
     "data": {
      "text/html": [
       "<div>\n",
       "<style scoped>\n",
       "    .dataframe tbody tr th:only-of-type {\n",
       "        vertical-align: middle;\n",
       "    }\n",
       "\n",
       "    .dataframe tbody tr th {\n",
       "        vertical-align: top;\n",
       "    }\n",
       "\n",
       "    .dataframe thead th {\n",
       "        text-align: right;\n",
       "    }\n",
       "</style>\n",
       "<table border=\"1\" class=\"dataframe\">\n",
       "  <thead>\n",
       "    <tr style=\"text-align: right;\">\n",
       "      <th></th>\n",
       "      <th>ride_id</th>\n",
       "      <th>rideable_type</th>\n",
       "      <th>started_at</th>\n",
       "      <th>ended_at</th>\n",
       "      <th>start_station_name</th>\n",
       "      <th>start_station_id</th>\n",
       "      <th>end_station_name</th>\n",
       "      <th>end_station_id</th>\n",
       "      <th>start_lat</th>\n",
       "      <th>start_lng</th>\n",
       "      <th>end_lat</th>\n",
       "      <th>end_lng</th>\n",
       "      <th>member_casual</th>\n",
       "    </tr>\n",
       "  </thead>\n",
       "  <tbody>\n",
       "    <tr>\n",
       "      <th>0</th>\n",
       "      <td>FB6B89D05B67EBED</td>\n",
       "      <td>classic_bike</td>\n",
       "      <td>2021-08-24 15:59:57</td>\n",
       "      <td>2021-08-24 16:42:07</td>\n",
       "      <td>Broadway &amp; E 21 St</td>\n",
       "      <td>6098.10</td>\n",
       "      <td>Central Park North &amp; Adam Clayton Powell Blvd</td>\n",
       "      <td>7617.07</td>\n",
       "      <td>40.739888</td>\n",
       "      <td>-73.989586</td>\n",
       "      <td>40.799484</td>\n",
       "      <td>-73.955613</td>\n",
       "      <td>member</td>\n",
       "    </tr>\n",
       "    <tr>\n",
       "      <th>1</th>\n",
       "      <td>E13DA3E30CEF8DFC</td>\n",
       "      <td>classic_bike</td>\n",
       "      <td>2021-08-18 13:12:01</td>\n",
       "      <td>2021-08-18 13:21:26</td>\n",
       "      <td>E 13 St &amp; 2 Ave</td>\n",
       "      <td>5820.08</td>\n",
       "      <td>Henry St &amp; Grand St</td>\n",
       "      <td>5294.04</td>\n",
       "      <td>40.731539</td>\n",
       "      <td>-73.985302</td>\n",
       "      <td>40.714211</td>\n",
       "      <td>-73.981095</td>\n",
       "      <td>member</td>\n",
       "    </tr>\n",
       "    <tr>\n",
       "      <th>2</th>\n",
       "      <td>56617490AB8AE69C</td>\n",
       "      <td>classic_bike</td>\n",
       "      <td>2021-08-17 14:31:23</td>\n",
       "      <td>2021-08-17 14:35:34</td>\n",
       "      <td>E 95 St &amp; 3 Ave</td>\n",
       "      <td>7365.13</td>\n",
       "      <td>E 84 St &amp; Park Ave</td>\n",
       "      <td>7243.04</td>\n",
       "      <td>40.784903</td>\n",
       "      <td>-73.950503</td>\n",
       "      <td>40.778627</td>\n",
       "      <td>-73.957721</td>\n",
       "      <td>member</td>\n",
       "    </tr>\n",
       "    <tr>\n",
       "      <th>3</th>\n",
       "      <td>CA908B271C7D6663</td>\n",
       "      <td>classic_bike</td>\n",
       "      <td>2021-08-11 10:00:12</td>\n",
       "      <td>2021-08-11 10:31:01</td>\n",
       "      <td>Madison Ave &amp; E 82 St</td>\n",
       "      <td>7188.13</td>\n",
       "      <td>E 84 St &amp; Park Ave</td>\n",
       "      <td>7243.04</td>\n",
       "      <td>40.778131</td>\n",
       "      <td>-73.960694</td>\n",
       "      <td>40.778627</td>\n",
       "      <td>-73.957721</td>\n",
       "      <td>casual</td>\n",
       "    </tr>\n",
       "    <tr>\n",
       "      <th>4</th>\n",
       "      <td>3E170CE1F4FE179D</td>\n",
       "      <td>classic_bike</td>\n",
       "      <td>2021-08-12 19:28:38</td>\n",
       "      <td>2021-08-12 19:48:50</td>\n",
       "      <td>E 74 St &amp; 1 Ave</td>\n",
       "      <td>6953.08</td>\n",
       "      <td>E 84 St &amp; Park Ave</td>\n",
       "      <td>7243.04</td>\n",
       "      <td>40.768974</td>\n",
       "      <td>-73.954823</td>\n",
       "      <td>40.778627</td>\n",
       "      <td>-73.957721</td>\n",
       "      <td>casual</td>\n",
       "    </tr>\n",
       "  </tbody>\n",
       "</table>\n",
       "</div>"
      ],
      "text/plain": [
       "            ride_id rideable_type           started_at             ended_at  \\\n",
       "0  FB6B89D05B67EBED  classic_bike  2021-08-24 15:59:57  2021-08-24 16:42:07   \n",
       "1  E13DA3E30CEF8DFC  classic_bike  2021-08-18 13:12:01  2021-08-18 13:21:26   \n",
       "2  56617490AB8AE69C  classic_bike  2021-08-17 14:31:23  2021-08-17 14:35:34   \n",
       "3  CA908B271C7D6663  classic_bike  2021-08-11 10:00:12  2021-08-11 10:31:01   \n",
       "4  3E170CE1F4FE179D  classic_bike  2021-08-12 19:28:38  2021-08-12 19:48:50   \n",
       "\n",
       "      start_station_name  start_station_id  \\\n",
       "0     Broadway & E 21 St           6098.10   \n",
       "1        E 13 St & 2 Ave           5820.08   \n",
       "2        E 95 St & 3 Ave           7365.13   \n",
       "3  Madison Ave & E 82 St           7188.13   \n",
       "4        E 74 St & 1 Ave           6953.08   \n",
       "\n",
       "                                end_station_name end_station_id  start_lat  \\\n",
       "0  Central Park North & Adam Clayton Powell Blvd        7617.07  40.739888   \n",
       "1                            Henry St & Grand St        5294.04  40.731539   \n",
       "2                             E 84 St & Park Ave        7243.04  40.784903   \n",
       "3                             E 84 St & Park Ave        7243.04  40.778131   \n",
       "4                             E 84 St & Park Ave        7243.04  40.768974   \n",
       "\n",
       "   start_lng    end_lat    end_lng member_casual  \n",
       "0 -73.989586  40.799484 -73.955613        member  \n",
       "1 -73.985302  40.714211 -73.981095        member  \n",
       "2 -73.950503  40.778627 -73.957721        member  \n",
       "3 -73.960694  40.778627 -73.957721        casual  \n",
       "4 -73.954823  40.778627 -73.957721        casual  "
      ]
     },
     "execution_count": 50,
     "metadata": {},
     "output_type": "execute_result"
    }
   ],
   "source": [
    "data_clean.head()"
   ]
  },
  {
   "cell_type": "markdown",
   "id": "disabled-browse",
   "metadata": {},
   "source": [
    "### Code"
   ]
  },
  {
   "cell_type": "code",
   "execution_count": 51,
   "id": "unlimited-cache",
   "metadata": {},
   "outputs": [],
   "source": [
    "data_clean['started_at'] = pd.to_datetime(data_clean['started_at'])"
   ]
  },
  {
   "cell_type": "code",
   "execution_count": 52,
   "id": "cosmetic-republic",
   "metadata": {},
   "outputs": [],
   "source": [
    "data_clean['ended_at'] = pd.to_datetime(data_clean['ended_at'])"
   ]
  },
  {
   "cell_type": "code",
   "execution_count": 53,
   "id": "hydraulic-queue",
   "metadata": {},
   "outputs": [],
   "source": [
    "data_clean['start_station_id'] = data_clean['start_station_id'].astype(str)"
   ]
  },
  {
   "cell_type": "code",
   "execution_count": 54,
   "id": "blank-strengthening",
   "metadata": {},
   "outputs": [],
   "source": [
    "data_clean = data_clean.rename(columns={'member_casual':'user'})"
   ]
  },
  {
   "cell_type": "code",
   "execution_count": null,
   "id": "warming-swiss",
   "metadata": {},
   "outputs": [],
   "source": []
  },
  {
   "cell_type": "code",
   "execution_count": 55,
   "id": "understood-partition",
   "metadata": {},
   "outputs": [],
   "source": [
    "data_clean.start_station_id = data_clean.start_station_id.replace('nan',np.nan) "
   ]
  },
  {
   "cell_type": "code",
   "execution_count": 56,
   "id": "incomplete-optics",
   "metadata": {},
   "outputs": [],
   "source": [
    "# start id"
   ]
  },
  {
   "cell_type": "code",
   "execution_count": 57,
   "id": "intellectual-damages",
   "metadata": {},
   "outputs": [],
   "source": [
    "df_start_station = data_clean.iloc[:,4:6].sort_values(by='start_station_id').dropna().drop_duplicates().reset_index().drop(columns=['index'])"
   ]
  },
  {
   "cell_type": "code",
   "execution_count": 58,
   "id": "quality-boating",
   "metadata": {},
   "outputs": [],
   "source": [
    "# df_start_station = data_clean.iloc[:,4:6]\n",
    "# df_start_station = df_start_station.sort_values(by='start_station_id').dropna()\n",
    "# df_start_station = df_start_station.drop_duplicates()\n",
    "# df_start_station = df_start_station.reset_index()\n",
    "# df_start_station = df_start_station.drop(columns=['index'])"
   ]
  },
  {
   "cell_type": "code",
   "execution_count": 59,
   "id": "superb-poster",
   "metadata": {},
   "outputs": [],
   "source": [
    "duplicated_start_id = []\n",
    "\n",
    "for i in range(0, len(df_start_station)):\n",
    "    if df_start_station.start_station_id.duplicated()[i] == True:\n",
    "        duplicated_start_id.append(df_start_station.start_station_id[i])"
   ]
  },
  {
   "cell_type": "code",
   "execution_count": 60,
   "id": "recovered-fault",
   "metadata": {},
   "outputs": [],
   "source": [
    "# for i in range(0, len(duplicated_start_id)):\n",
    "#     print(df_start_station.query('start_station_id == duplicated_start_id[i]'))"
   ]
  },
  {
   "cell_type": "code",
   "execution_count": 61,
   "id": "looking-mathematics",
   "metadata": {
    "collapsed": true
   },
   "outputs": [
    {
     "data": {
      "text/plain": [
       "[          start_station_name start_station_id\n",
       " 248  Boerum Pl\\t& Pacific St          4488.09\n",
       " 249  Boerum Pl\\t& Pacific St          4488.09,\n",
       "            start_station_name start_station_id\n",
       " 334  Nassau St\\t& Duffield St          4781.05\n",
       " 335  Nassau St\\t& Duffield St          4781.05,\n",
       "           start_station_name start_station_id\n",
       " 458  Clinton St\\t& Cherry St          5190.09\n",
       " 459  Clinton St\\t& Cherry St          5190.09,\n",
       "          start_station_name start_station_id\n",
       " 514  Forsyth St\\t& Grand St          5382.07\n",
       " 515  Forsyth St\\t& Grand St          5382.07,\n",
       "                start_station_name start_station_id\n",
       " 1163   Grand Concourse & E 144 St           7845.1\n",
       " 1164  Grand Concourse & E 144  St           7845.1]"
      ]
     },
     "execution_count": 61,
     "metadata": {},
     "output_type": "execute_result"
    }
   ],
   "source": [
    "df_start_station_list = []\n",
    "\n",
    "for i in range(0, len(duplicated_start_id)):\n",
    "    df_start_station_list.append(df_start_station[df_start_station.start_station_id == duplicated_start_id[i]])"
   ]
  },
  {
   "cell_type": "code",
   "execution_count": 62,
   "id": "committed-representation",
   "metadata": {},
   "outputs": [],
   "source": [
    "index_list = []\n",
    "drop_index_list = []\n",
    "\n",
    "for i in range(0, len(df_start_station_list)):\n",
    "    index_list.append(df_start_station_list[i].index)\n",
    "    \n",
    "for i in range(0, len(index_list)):\n",
    "    drop_index_list.append(index_list[i][1])\n",
    "    \n",
    "for i in range(0, len(drop_index_list)):\n",
    "    df_start_station.drop(drop_index_list[i], axis=0, inplace=True)"
   ]
  },
  {
   "cell_type": "code",
   "execution_count": 63,
   "id": "challenging-andrews",
   "metadata": {},
   "outputs": [],
   "source": [
    "# end id"
   ]
  },
  {
   "cell_type": "code",
   "execution_count": 64,
   "id": "healthy-vulnerability",
   "metadata": {},
   "outputs": [
    {
     "data": {
      "text/html": [
       "<div>\n",
       "<style scoped>\n",
       "    .dataframe tbody tr th:only-of-type {\n",
       "        vertical-align: middle;\n",
       "    }\n",
       "\n",
       "    .dataframe tbody tr th {\n",
       "        vertical-align: top;\n",
       "    }\n",
       "\n",
       "    .dataframe thead th {\n",
       "        text-align: right;\n",
       "    }\n",
       "</style>\n",
       "<table border=\"1\" class=\"dataframe\">\n",
       "  <thead>\n",
       "    <tr style=\"text-align: right;\">\n",
       "      <th></th>\n",
       "      <th>end_station_name</th>\n",
       "      <th>end_station_id</th>\n",
       "    </tr>\n",
       "  </thead>\n",
       "  <tbody>\n",
       "    <tr>\n",
       "      <th>0</th>\n",
       "      <td>Central Park North &amp; Adam Clayton Powell Blvd</td>\n",
       "      <td>7617.07</td>\n",
       "    </tr>\n",
       "    <tr>\n",
       "      <th>1</th>\n",
       "      <td>Henry St &amp; Grand St</td>\n",
       "      <td>5294.04</td>\n",
       "    </tr>\n",
       "    <tr>\n",
       "      <th>2</th>\n",
       "      <td>E 84 St &amp; Park Ave</td>\n",
       "      <td>7243.04</td>\n",
       "    </tr>\n",
       "    <tr>\n",
       "      <th>3</th>\n",
       "      <td>35 St &amp; 21 Ave</td>\n",
       "      <td>7170.04</td>\n",
       "    </tr>\n",
       "    <tr>\n",
       "      <th>4</th>\n",
       "      <td>Willoughby Ave &amp; Tompkins Ave</td>\n",
       "      <td>4665.02</td>\n",
       "    </tr>\n",
       "    <tr>\n",
       "      <th>...</th>\n",
       "      <td>...</td>\n",
       "      <td>...</td>\n",
       "    </tr>\n",
       "    <tr>\n",
       "      <th>2687</th>\n",
       "      <td>Frost St &amp; Debevoise Ave</td>\n",
       "      <td>5433.04</td>\n",
       "    </tr>\n",
       "    <tr>\n",
       "      <th>2688</th>\n",
       "      <td>St Ann's Ave &amp; Westchester Ave</td>\n",
       "      <td>7835.1</td>\n",
       "    </tr>\n",
       "    <tr>\n",
       "      <th>2689</th>\n",
       "      <td>Grand Concourse &amp; E 156 St</td>\n",
       "      <td>7984.04</td>\n",
       "    </tr>\n",
       "    <tr>\n",
       "      <th>2690</th>\n",
       "      <td>Forrest WH station</td>\n",
       "      <td>SYS032</td>\n",
       "    </tr>\n",
       "    <tr>\n",
       "      <th>2691</th>\n",
       "      <td>Bergen Ave</td>\n",
       "      <td>JC095</td>\n",
       "    </tr>\n",
       "  </tbody>\n",
       "</table>\n",
       "<p>2692 rows × 2 columns</p>\n",
       "</div>"
      ],
      "text/plain": [
       "                                   end_station_name end_station_id\n",
       "0     Central Park North & Adam Clayton Powell Blvd        7617.07\n",
       "1                               Henry St & Grand St        5294.04\n",
       "2                                E 84 St & Park Ave        7243.04\n",
       "3                                    35 St & 21 Ave        7170.04\n",
       "4                     Willoughby Ave & Tompkins Ave        4665.02\n",
       "...                                             ...            ...\n",
       "2687                       Frost St & Debevoise Ave        5433.04\n",
       "2688                 St Ann's Ave & Westchester Ave         7835.1\n",
       "2689                     Grand Concourse & E 156 St        7984.04\n",
       "2690                             Forrest WH station         SYS032\n",
       "2691                                     Bergen Ave          JC095\n",
       "\n",
       "[2692 rows x 2 columns]"
      ]
     },
     "execution_count": 64,
     "metadata": {},
     "output_type": "execute_result"
    }
   ],
   "source": [
    "df_end_station = data_clean.iloc[:,6:8].dropna().drop_duplicates().reset_index().drop(columns=['index'])\n",
    "\n",
    "# strange values for end_station_id (SYS032, JC095)\n",
    "# sort_values(by='end_station_id')"
   ]
  },
  {
   "cell_type": "code",
   "execution_count": 65,
   "id": "covered-collector",
   "metadata": {},
   "outputs": [],
   "source": [
    "duplicated_end_id = []\n",
    "\n",
    "for i in range(0, len(df_end_station)):\n",
    "    if df_end_station.end_station_id.duplicated()[i] == True:\n",
    "        duplicated_end_id.append(df_end_station.end_station_id[i])"
   ]
  },
  {
   "cell_type": "code",
   "execution_count": 66,
   "id": "applied-merchandise",
   "metadata": {},
   "outputs": [],
   "source": [
    "df_end_station_list = []\n",
    "\n",
    "for i in range(0, len(duplicated_end_id)):\n",
    "    df_end_station_list.append(df_end_station[df_end_station.end_station_id == duplicated_end_id[i]])"
   ]
  },
  {
   "cell_type": "code",
   "execution_count": 67,
   "id": "abandoned-tiffany",
   "metadata": {},
   "outputs": [],
   "source": [
    "index_list = []\n",
    "drop_index_list = []\n",
    "\n",
    "for i in range(0, len(df_end_station_list)):\n",
    "    index_list.append(df_end_station_list[i].index)\n",
    "    \n",
    "for i in range(0, len(index_list)):\n",
    "    drop_index_list.append(index_list[i][1])\n",
    "    \n",
    "for i in range(0, len(drop_index_list)):\n",
    "    df_end_station.drop(drop_index_list[i], axis=0, inplace=True)"
   ]
  },
  {
   "cell_type": "code",
   "execution_count": 99,
   "id": "superior-tomato",
   "metadata": {
    "collapsed": true
   },
   "outputs": [
    {
     "ename": "KeyError",
     "evalue": "239",
     "output_type": "error",
     "traceback": [
      "\u001b[0;31m---------------------------------------------------------------------------\u001b[0m",
      "\u001b[0;31mKeyError\u001b[0m                                  Traceback (most recent call last)",
      "\u001b[0;32m~/opt/anaconda3/lib/python3.8/site-packages/pandas/core/indexes/base.py\u001b[0m in \u001b[0;36mget_loc\u001b[0;34m(self, key, method, tolerance)\u001b[0m\n\u001b[1;32m   3079\u001b[0m             \u001b[0;32mtry\u001b[0m\u001b[0;34m:\u001b[0m\u001b[0;34m\u001b[0m\u001b[0;34m\u001b[0m\u001b[0m\n\u001b[0;32m-> 3080\u001b[0;31m                 \u001b[0;32mreturn\u001b[0m \u001b[0mself\u001b[0m\u001b[0;34m.\u001b[0m\u001b[0m_engine\u001b[0m\u001b[0;34m.\u001b[0m\u001b[0mget_loc\u001b[0m\u001b[0;34m(\u001b[0m\u001b[0mcasted_key\u001b[0m\u001b[0;34m)\u001b[0m\u001b[0;34m\u001b[0m\u001b[0;34m\u001b[0m\u001b[0m\n\u001b[0m\u001b[1;32m   3081\u001b[0m             \u001b[0;32mexcept\u001b[0m \u001b[0mKeyError\u001b[0m \u001b[0;32mas\u001b[0m \u001b[0merr\u001b[0m\u001b[0;34m:\u001b[0m\u001b[0;34m\u001b[0m\u001b[0;34m\u001b[0m\u001b[0m\n",
      "\u001b[0;32mpandas/_libs/index.pyx\u001b[0m in \u001b[0;36mpandas._libs.index.IndexEngine.get_loc\u001b[0;34m()\u001b[0m\n",
      "\u001b[0;32mpandas/_libs/index.pyx\u001b[0m in \u001b[0;36mpandas._libs.index.IndexEngine.get_loc\u001b[0;34m()\u001b[0m\n",
      "\u001b[0;32mpandas/_libs/hashtable_class_helper.pxi\u001b[0m in \u001b[0;36mpandas._libs.hashtable.Int64HashTable.get_item\u001b[0;34m()\u001b[0m\n",
      "\u001b[0;32mpandas/_libs/hashtable_class_helper.pxi\u001b[0m in \u001b[0;36mpandas._libs.hashtable.Int64HashTable.get_item\u001b[0;34m()\u001b[0m\n",
      "\u001b[0;31mKeyError\u001b[0m: 239",
      "\nThe above exception was the direct cause of the following exception:\n",
      "\u001b[0;31mKeyError\u001b[0m                                  Traceback (most recent call last)",
      "\u001b[0;32m<ipython-input-99-2e94de278c0a>\u001b[0m in \u001b[0;36m<module>\u001b[0;34m\u001b[0m\n\u001b[1;32m      2\u001b[0m \u001b[0;34m\u001b[0m\u001b[0m\n\u001b[1;32m      3\u001b[0m \u001b[0;32mfor\u001b[0m \u001b[0mi\u001b[0m \u001b[0;32min\u001b[0m \u001b[0mrange\u001b[0m\u001b[0;34m(\u001b[0m\u001b[0;36m0\u001b[0m\u001b[0;34m,\u001b[0m \u001b[0mlen\u001b[0m\u001b[0;34m(\u001b[0m\u001b[0mdf_end_station\u001b[0m\u001b[0;34m)\u001b[0m\u001b[0;34m)\u001b[0m\u001b[0;34m:\u001b[0m\u001b[0;34m\u001b[0m\u001b[0;34m\u001b[0m\u001b[0m\n\u001b[0;32m----> 4\u001b[0;31m     \u001b[0;32mif\u001b[0m \u001b[0mdf_end_station\u001b[0m\u001b[0;34m.\u001b[0m\u001b[0mend_station_name\u001b[0m\u001b[0;34m.\u001b[0m\u001b[0mduplicated\u001b[0m\u001b[0;34m(\u001b[0m\u001b[0;34m)\u001b[0m\u001b[0;34m[\u001b[0m\u001b[0mi\u001b[0m\u001b[0;34m]\u001b[0m \u001b[0;34m==\u001b[0m \u001b[0;32mTrue\u001b[0m\u001b[0;34m:\u001b[0m\u001b[0;34m\u001b[0m\u001b[0;34m\u001b[0m\u001b[0m\n\u001b[0m\u001b[1;32m      5\u001b[0m         \u001b[0mduplicated_end_name\u001b[0m\u001b[0;34m.\u001b[0m\u001b[0mappend\u001b[0m\u001b[0;34m(\u001b[0m\u001b[0mdf_end_station\u001b[0m\u001b[0;34m.\u001b[0m\u001b[0mend_station_name\u001b[0m\u001b[0;34m[\u001b[0m\u001b[0mi\u001b[0m\u001b[0;34m]\u001b[0m\u001b[0;34m)\u001b[0m\u001b[0;34m\u001b[0m\u001b[0;34m\u001b[0m\u001b[0m\n",
      "\u001b[0;32m~/opt/anaconda3/lib/python3.8/site-packages/pandas/core/series.py\u001b[0m in \u001b[0;36m__getitem__\u001b[0;34m(self, key)\u001b[0m\n\u001b[1;32m    851\u001b[0m \u001b[0;34m\u001b[0m\u001b[0m\n\u001b[1;32m    852\u001b[0m         \u001b[0;32melif\u001b[0m \u001b[0mkey_is_scalar\u001b[0m\u001b[0;34m:\u001b[0m\u001b[0;34m\u001b[0m\u001b[0;34m\u001b[0m\u001b[0m\n\u001b[0;32m--> 853\u001b[0;31m             \u001b[0;32mreturn\u001b[0m \u001b[0mself\u001b[0m\u001b[0;34m.\u001b[0m\u001b[0m_get_value\u001b[0m\u001b[0;34m(\u001b[0m\u001b[0mkey\u001b[0m\u001b[0;34m)\u001b[0m\u001b[0;34m\u001b[0m\u001b[0;34m\u001b[0m\u001b[0m\n\u001b[0m\u001b[1;32m    854\u001b[0m \u001b[0;34m\u001b[0m\u001b[0m\n\u001b[1;32m    855\u001b[0m         \u001b[0;32mif\u001b[0m \u001b[0mis_hashable\u001b[0m\u001b[0;34m(\u001b[0m\u001b[0mkey\u001b[0m\u001b[0;34m)\u001b[0m\u001b[0;34m:\u001b[0m\u001b[0;34m\u001b[0m\u001b[0;34m\u001b[0m\u001b[0m\n",
      "\u001b[0;32m~/opt/anaconda3/lib/python3.8/site-packages/pandas/core/series.py\u001b[0m in \u001b[0;36m_get_value\u001b[0;34m(self, label, takeable)\u001b[0m\n\u001b[1;32m    959\u001b[0m \u001b[0;34m\u001b[0m\u001b[0m\n\u001b[1;32m    960\u001b[0m         \u001b[0;31m# Similar to Index.get_value, but we do not fall back to positional\u001b[0m\u001b[0;34m\u001b[0m\u001b[0;34m\u001b[0m\u001b[0;34m\u001b[0m\u001b[0m\n\u001b[0;32m--> 961\u001b[0;31m         \u001b[0mloc\u001b[0m \u001b[0;34m=\u001b[0m \u001b[0mself\u001b[0m\u001b[0;34m.\u001b[0m\u001b[0mindex\u001b[0m\u001b[0;34m.\u001b[0m\u001b[0mget_loc\u001b[0m\u001b[0;34m(\u001b[0m\u001b[0mlabel\u001b[0m\u001b[0;34m)\u001b[0m\u001b[0;34m\u001b[0m\u001b[0;34m\u001b[0m\u001b[0m\n\u001b[0m\u001b[1;32m    962\u001b[0m         \u001b[0;32mreturn\u001b[0m \u001b[0mself\u001b[0m\u001b[0;34m.\u001b[0m\u001b[0mindex\u001b[0m\u001b[0;34m.\u001b[0m\u001b[0m_get_values_for_loc\u001b[0m\u001b[0;34m(\u001b[0m\u001b[0mself\u001b[0m\u001b[0;34m,\u001b[0m \u001b[0mloc\u001b[0m\u001b[0;34m,\u001b[0m \u001b[0mlabel\u001b[0m\u001b[0;34m)\u001b[0m\u001b[0;34m\u001b[0m\u001b[0;34m\u001b[0m\u001b[0m\n\u001b[1;32m    963\u001b[0m \u001b[0;34m\u001b[0m\u001b[0m\n",
      "\u001b[0;32m~/opt/anaconda3/lib/python3.8/site-packages/pandas/core/indexes/base.py\u001b[0m in \u001b[0;36mget_loc\u001b[0;34m(self, key, method, tolerance)\u001b[0m\n\u001b[1;32m   3080\u001b[0m                 \u001b[0;32mreturn\u001b[0m \u001b[0mself\u001b[0m\u001b[0;34m.\u001b[0m\u001b[0m_engine\u001b[0m\u001b[0;34m.\u001b[0m\u001b[0mget_loc\u001b[0m\u001b[0;34m(\u001b[0m\u001b[0mcasted_key\u001b[0m\u001b[0;34m)\u001b[0m\u001b[0;34m\u001b[0m\u001b[0;34m\u001b[0m\u001b[0m\n\u001b[1;32m   3081\u001b[0m             \u001b[0;32mexcept\u001b[0m \u001b[0mKeyError\u001b[0m \u001b[0;32mas\u001b[0m \u001b[0merr\u001b[0m\u001b[0;34m:\u001b[0m\u001b[0;34m\u001b[0m\u001b[0;34m\u001b[0m\u001b[0m\n\u001b[0;32m-> 3082\u001b[0;31m                 \u001b[0;32mraise\u001b[0m \u001b[0mKeyError\u001b[0m\u001b[0;34m(\u001b[0m\u001b[0mkey\u001b[0m\u001b[0;34m)\u001b[0m \u001b[0;32mfrom\u001b[0m \u001b[0merr\u001b[0m\u001b[0;34m\u001b[0m\u001b[0;34m\u001b[0m\u001b[0m\n\u001b[0m\u001b[1;32m   3083\u001b[0m \u001b[0;34m\u001b[0m\u001b[0m\n\u001b[1;32m   3084\u001b[0m         \u001b[0;32mif\u001b[0m \u001b[0mtolerance\u001b[0m \u001b[0;32mis\u001b[0m \u001b[0;32mnot\u001b[0m \u001b[0;32mNone\u001b[0m\u001b[0;34m:\u001b[0m\u001b[0;34m\u001b[0m\u001b[0;34m\u001b[0m\u001b[0m\n",
      "\u001b[0;31mKeyError\u001b[0m: 239"
     ]
    }
   ],
   "source": [
    "#duplicated_end_name = []\n",
    "\n",
    "#for i in range(0, len(df_end_station)):\n",
    "#    if df_end_station.end_station_name.duplicated()[i] == True:        \n",
    "#        duplicated_end_name.append(df_end_station.end_station_name[i])"
   ]
  },
  {
   "cell_type": "code",
   "execution_count": 126,
   "id": "understanding-suite",
   "metadata": {},
   "outputs": [
    {
     "data": {
      "text/html": [
       "<div>\n",
       "<style scoped>\n",
       "    .dataframe tbody tr th:only-of-type {\n",
       "        vertical-align: middle;\n",
       "    }\n",
       "\n",
       "    .dataframe tbody tr th {\n",
       "        vertical-align: top;\n",
       "    }\n",
       "\n",
       "    .dataframe thead th {\n",
       "        text-align: right;\n",
       "    }\n",
       "</style>\n",
       "<table border=\"1\" class=\"dataframe\">\n",
       "  <thead>\n",
       "    <tr style=\"text-align: right;\">\n",
       "      <th></th>\n",
       "      <th>end_station_name</th>\n",
       "      <th>end_station_id</th>\n",
       "    </tr>\n",
       "  </thead>\n",
       "  <tbody>\n",
       "    <tr>\n",
       "      <th>0</th>\n",
       "      <td>Central Park North &amp; Adam Clayton Powell Blvd</td>\n",
       "      <td>7617.07</td>\n",
       "    </tr>\n",
       "    <tr>\n",
       "      <th>1</th>\n",
       "      <td>Henry St &amp; Grand St</td>\n",
       "      <td>5294.04</td>\n",
       "    </tr>\n",
       "    <tr>\n",
       "      <th>2</th>\n",
       "      <td>E 84 St &amp; Park Ave</td>\n",
       "      <td>7243.04</td>\n",
       "    </tr>\n",
       "    <tr>\n",
       "      <th>3</th>\n",
       "      <td>35 St &amp; 21 Ave</td>\n",
       "      <td>7170.04</td>\n",
       "    </tr>\n",
       "    <tr>\n",
       "      <th>4</th>\n",
       "      <td>Willoughby Ave &amp; Tompkins Ave</td>\n",
       "      <td>4665.02</td>\n",
       "    </tr>\n",
       "    <tr>\n",
       "      <th>...</th>\n",
       "      <td>...</td>\n",
       "      <td>...</td>\n",
       "    </tr>\n",
       "    <tr>\n",
       "      <th>2687</th>\n",
       "      <td>Frost St &amp; Debevoise Ave</td>\n",
       "      <td>5433.04</td>\n",
       "    </tr>\n",
       "    <tr>\n",
       "      <th>2688</th>\n",
       "      <td>St Ann's Ave &amp; Westchester Ave</td>\n",
       "      <td>7835.1</td>\n",
       "    </tr>\n",
       "    <tr>\n",
       "      <th>2689</th>\n",
       "      <td>Grand Concourse &amp; E 156 St</td>\n",
       "      <td>7984.04</td>\n",
       "    </tr>\n",
       "    <tr>\n",
       "      <th>2690</th>\n",
       "      <td>Forrest WH station</td>\n",
       "      <td>SYS032</td>\n",
       "    </tr>\n",
       "    <tr>\n",
       "      <th>2691</th>\n",
       "      <td>Bergen Ave</td>\n",
       "      <td>JC095</td>\n",
       "    </tr>\n",
       "  </tbody>\n",
       "</table>\n",
       "<p>2685 rows × 2 columns</p>\n",
       "</div>"
      ],
      "text/plain": [
       "                                   end_station_name end_station_id\n",
       "0     Central Park North & Adam Clayton Powell Blvd        7617.07\n",
       "1                               Henry St & Grand St        5294.04\n",
       "2                                E 84 St & Park Ave        7243.04\n",
       "3                                    35 St & 21 Ave        7170.04\n",
       "4                     Willoughby Ave & Tompkins Ave        4665.02\n",
       "...                                             ...            ...\n",
       "2687                       Frost St & Debevoise Ave        5433.04\n",
       "2688                 St Ann's Ave & Westchester Ave         7835.1\n",
       "2689                     Grand Concourse & E 156 St        7984.04\n",
       "2690                             Forrest WH station         SYS032\n",
       "2691                                     Bergen Ave          JC095\n",
       "\n",
       "[2685 rows x 2 columns]"
      ]
     },
     "execution_count": 126,
     "metadata": {},
     "output_type": "execute_result"
    }
   ],
   "source": [
    "df_end_station"
   ]
  },
  {
   "cell_type": "code",
   "execution_count": 143,
   "id": "fuzzy-airplane",
   "metadata": {},
   "outputs": [],
   "source": [
    "df_end_station_name_dup = df_end_station[['end_station_name', 'end_station_id']]\n",
    "#df_end_station_name_dup = df_end_station_name_dup.end_station_name.value_counts()\n",
    "#df_end_station_name_dup = df_end_station_name_dup.rename(columns={'index':'end_station_name', 'end_station_name': 'count'})\n",
    "#df_end_station_name_dup = df_end_station_name_dup.query('count > 1')\n",
    "#df_end_station_name_dup"
   ]
  },
  {
   "cell_type": "code",
   "execution_count": 144,
   "id": "married-mobility",
   "metadata": {},
   "outputs": [
    {
     "data": {
      "text/html": [
       "<div>\n",
       "<style scoped>\n",
       "    .dataframe tbody tr th:only-of-type {\n",
       "        vertical-align: middle;\n",
       "    }\n",
       "\n",
       "    .dataframe tbody tr th {\n",
       "        vertical-align: top;\n",
       "    }\n",
       "\n",
       "    .dataframe thead th {\n",
       "        text-align: right;\n",
       "    }\n",
       "</style>\n",
       "<table border=\"1\" class=\"dataframe\">\n",
       "  <thead>\n",
       "    <tr style=\"text-align: right;\">\n",
       "      <th></th>\n",
       "      <th>end_station_name</th>\n",
       "      <th>end_station_id</th>\n",
       "    </tr>\n",
       "  </thead>\n",
       "  <tbody>\n",
       "    <tr>\n",
       "      <th>0</th>\n",
       "      <td>Central Park North &amp; Adam Clayton Powell Blvd</td>\n",
       "      <td>7617.07</td>\n",
       "    </tr>\n",
       "    <tr>\n",
       "      <th>1</th>\n",
       "      <td>Henry St &amp; Grand St</td>\n",
       "      <td>5294.04</td>\n",
       "    </tr>\n",
       "    <tr>\n",
       "      <th>2</th>\n",
       "      <td>E 84 St &amp; Park Ave</td>\n",
       "      <td>7243.04</td>\n",
       "    </tr>\n",
       "    <tr>\n",
       "      <th>3</th>\n",
       "      <td>35 St &amp; 21 Ave</td>\n",
       "      <td>7170.04</td>\n",
       "    </tr>\n",
       "    <tr>\n",
       "      <th>4</th>\n",
       "      <td>Willoughby Ave &amp; Tompkins Ave</td>\n",
       "      <td>4665.02</td>\n",
       "    </tr>\n",
       "    <tr>\n",
       "      <th>...</th>\n",
       "      <td>...</td>\n",
       "      <td>...</td>\n",
       "    </tr>\n",
       "    <tr>\n",
       "      <th>2687</th>\n",
       "      <td>Frost St &amp; Debevoise Ave</td>\n",
       "      <td>5433.04</td>\n",
       "    </tr>\n",
       "    <tr>\n",
       "      <th>2688</th>\n",
       "      <td>St Ann's Ave &amp; Westchester Ave</td>\n",
       "      <td>7835.1</td>\n",
       "    </tr>\n",
       "    <tr>\n",
       "      <th>2689</th>\n",
       "      <td>Grand Concourse &amp; E 156 St</td>\n",
       "      <td>7984.04</td>\n",
       "    </tr>\n",
       "    <tr>\n",
       "      <th>2690</th>\n",
       "      <td>Forrest WH station</td>\n",
       "      <td>SYS032</td>\n",
       "    </tr>\n",
       "    <tr>\n",
       "      <th>2691</th>\n",
       "      <td>Bergen Ave</td>\n",
       "      <td>JC095</td>\n",
       "    </tr>\n",
       "  </tbody>\n",
       "</table>\n",
       "<p>2685 rows × 2 columns</p>\n",
       "</div>"
      ],
      "text/plain": [
       "                                   end_station_name end_station_id\n",
       "0     Central Park North & Adam Clayton Powell Blvd        7617.07\n",
       "1                               Henry St & Grand St        5294.04\n",
       "2                                E 84 St & Park Ave        7243.04\n",
       "3                                    35 St & 21 Ave        7170.04\n",
       "4                     Willoughby Ave & Tompkins Ave        4665.02\n",
       "...                                             ...            ...\n",
       "2687                       Frost St & Debevoise Ave        5433.04\n",
       "2688                 St Ann's Ave & Westchester Ave         7835.1\n",
       "2689                     Grand Concourse & E 156 St        7984.04\n",
       "2690                             Forrest WH station         SYS032\n",
       "2691                                     Bergen Ave          JC095\n",
       "\n",
       "[2685 rows x 2 columns]"
      ]
     },
     "execution_count": 144,
     "metadata": {},
     "output_type": "execute_result"
    }
   ],
   "source": [
    "df_end_station_name_dup"
   ]
  },
  {
   "cell_type": "code",
   "execution_count": null,
   "id": "residential-nurse",
   "metadata": {},
   "outputs": [],
   "source": []
  },
  {
   "cell_type": "code",
   "execution_count": null,
   "id": "boolean-analysis",
   "metadata": {},
   "outputs": [],
   "source": []
  },
  {
   "cell_type": "code",
   "execution_count": null,
   "id": "quarterly-actor",
   "metadata": {},
   "outputs": [],
   "source": []
  },
  {
   "cell_type": "code",
   "execution_count": null,
   "id": "unable-marine",
   "metadata": {},
   "outputs": [],
   "source": []
  },
  {
   "cell_type": "code",
   "execution_count": 100,
   "id": "russian-atlantic",
   "metadata": {
    "collapsed": true
   },
   "outputs": [
    {
     "data": {
      "text/plain": [
       "0       False\n",
       "1       False\n",
       "2       False\n",
       "3       False\n",
       "4       False\n",
       "        ...  \n",
       "2687     True\n",
       "2688     True\n",
       "2689     True\n",
       "2690    False\n",
       "2691    False\n",
       "Name: end_station_name, Length: 2685, dtype: bool"
      ]
     },
     "execution_count": 100,
     "metadata": {},
     "output_type": "execute_result"
    }
   ],
   "source": [
    "df_end_station.end_station_name.duplicated()"
   ]
  },
  {
   "cell_type": "markdown",
   "id": "registered-withdrawal",
   "metadata": {},
   "source": [
    "### Test"
   ]
  },
  {
   "cell_type": "code",
   "execution_count": 248,
   "id": "charged-diesel",
   "metadata": {
    "collapsed": true
   },
   "outputs": [
    {
     "name": "stdout",
     "output_type": "stream",
     "text": [
      "<class 'pandas.core.frame.DataFrame'>\n",
      "RangeIndex: 3072478 entries, 0 to 3072477\n",
      "Data columns (total 13 columns):\n",
      " #   Column              Dtype         \n",
      "---  ------              -----         \n",
      " 0   ride_id             object        \n",
      " 1   rideable_type       object        \n",
      " 2   started_at          datetime64[ns]\n",
      " 3   ended_at            datetime64[ns]\n",
      " 4   start_station_name  object        \n",
      " 5   start_station_id    object        \n",
      " 6   end_station_name    object        \n",
      " 7   end_station_id      object        \n",
      " 8   start_lat           float64       \n",
      " 9   start_lng           float64       \n",
      " 10  end_lat             float64       \n",
      " 11  end_lng             float64       \n",
      " 12  user                object        \n",
      "dtypes: datetime64[ns](2), float64(4), object(7)\n",
      "memory usage: 304.7+ MB\n"
     ]
    }
   ],
   "source": [
    "data_clean.info()"
   ]
  },
  {
   "cell_type": "code",
   "execution_count": null,
   "id": "rubber-prospect",
   "metadata": {},
   "outputs": [],
   "source": []
  }
 ],
 "metadata": {
  "kernelspec": {
   "display_name": "Python [conda env:root] *",
   "language": "python",
   "name": "conda-root-py"
  },
  "language_info": {
   "codemirror_mode": {
    "name": "ipython",
    "version": 3
   },
   "file_extension": ".py",
   "mimetype": "text/x-python",
   "name": "python",
   "nbconvert_exporter": "python",
   "pygments_lexer": "ipython3",
   "version": "3.8.8"
  }
 },
 "nbformat": 4,
 "nbformat_minor": 5
}
